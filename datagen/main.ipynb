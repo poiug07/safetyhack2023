{
 "cells": [
  {
   "cell_type": "code",
   "execution_count": 4,
   "metadata": {},
   "outputs": [],
   "source": [
    "import random\n",
    "import pandas as pd\n",
    "import numpy as np\n",
    "import matplotlib.pyplot as plt\n",
    "from datetime import datetime, timedelta"
   ]
  },
  {
   "cell_type": "code",
   "execution_count": 5,
   "metadata": {},
   "outputs": [],
   "source": [
    "def _pick_number(prob: float) -> str:\n",
    "    choices = [0, 1]\n",
    "    probabilities = [1 - prob, prob]\n",
    "    return random.choices(choices, weights=probabilities)[0]"
   ]
  },
  {
   "cell_type": "code",
   "execution_count": 6,
   "metadata": {},
   "outputs": [],
   "source": [
    "def _generate_random(mean:int, sd:int) -> int:\n",
    "    random_number = np.abs(np.random.normal(mean, sd))\n",
    "    return int(random_number)"
   ]
  },
  {
   "cell_type": "code",
   "execution_count": 15,
   "metadata": {},
   "outputs": [],
   "source": [
    "def generate_random_arr(rows, prob, mean:int=400, sd:int=80) -> list:\n",
    "    arr = []\n",
    "    count = 0\n",
    "    while count < rows:\n",
    "        val = _pick_number(prob)\n",
    "        n = _generate_random(mean, sd)\n",
    "        arr.extend([val for i in range (n)])\n",
    "        count += n\n",
    "    return arr[:rows]"
   ]
  },
  {
   "cell_type": "code",
   "execution_count": 16,
   "metadata": {},
   "outputs": [],
   "source": [
    "def generate_worker_df(worker_id: int, worker_settings: dict) -> pd.DataFrame:\n",
    "    start = datetime(2023, 5, 1, 9, 0, 0)\n",
    "    end = datetime(2023, 5, 1, 18, 0, 0)\n",
    "    num_rows = (start-end).seconds // 5\n",
    "    df_dict = {\"timestamp\": [], \"worker_id\": [], \"ppe\": [], \"danger\": [], \"safety_harness\": []}\n",
    "    \n",
    "    # Generate timestamp\n",
    "    curr = start\n",
    "    for i in range(num_rows):\n",
    "        df_dict[\"timestamp\"].append(curr)\n",
    "        curr += timedelta(seconds=5)\n",
    "\n",
    "    # Generate worker_id\n",
    "    df_dict[\"worker_id\"] = [worker_id for i in range(num_rows)]\n",
    "\n",
    "    # Generate ppe, danger, safety_harness\n",
    "    df_dict[\"ppe\"] = generate_random_arr(num_rows, worker_settings[\"prob_ppe\"])\n",
    "    df_dict[\"danger\"] = generate_random_arr(num_rows, worker_settings[\"prob_danger\"])\n",
    "    df_dict[\"safety_harness\"] = generate_random_arr(num_rows, worker_settings[\"prob_safety_harness\"])\n",
    "\n",
    "    df = pd.DataFrame(df_dict)\n",
    "    return df"
   ]
  },
  {
   "cell_type": "code",
   "execution_count": 17,
   "metadata": {},
   "outputs": [],
   "source": [
    "worker_settings_dict = {\n",
    "    1: {\n",
    "        \"prob_ppe\": 0.8,\n",
    "        \"prob_danger\": 0.2,\n",
    "        \"prob_safety_harness\": 0.1,\n",
    "    },\n",
    "    2: {\n",
    "        \"prob_ppe\": 0.6,\n",
    "        \"prob_danger\": 0.8,\n",
    "        \"prob_safety_harness\": 0.4,\n",
    "    },\n",
    "    3: {\n",
    "        \"prob_ppe\": 0.95,\n",
    "        \"prob_danger\": 0.8,\n",
    "        \"prob_safety_harness\": 0.05,\n",
    "    }\n",
    "}"
   ]
  },
  {
   "cell_type": "code",
   "execution_count": 18,
   "metadata": {},
   "outputs": [],
   "source": [
    "# Generate data\n",
    "all_df = None\n",
    "for worker_id, worker_settings in worker_settings_dict.items():\n",
    "    worker_df = generate_worker_df(worker_id, worker_settings)\n",
    "    all_df = worker_df if all_df is None else pd.concat([all_df, worker_df], axis=0, ignore_index=True)"
   ]
  },
  {
   "cell_type": "code",
   "execution_count": 27,
   "metadata": {},
   "outputs": [
    {
     "data": {
      "text/html": [
       "<div>\n",
       "<style scoped>\n",
       "    .dataframe tbody tr th:only-of-type {\n",
       "        vertical-align: middle;\n",
       "    }\n",
       "\n",
       "    .dataframe tbody tr th {\n",
       "        vertical-align: top;\n",
       "    }\n",
       "\n",
       "    .dataframe thead th {\n",
       "        text-align: right;\n",
       "    }\n",
       "</style>\n",
       "<table border=\"1\" class=\"dataframe\">\n",
       "  <thead>\n",
       "    <tr style=\"text-align: right;\">\n",
       "      <th></th>\n",
       "      <th>timestamp</th>\n",
       "      <th>worker_id</th>\n",
       "      <th>ppe</th>\n",
       "      <th>danger</th>\n",
       "      <th>safety_harness</th>\n",
       "    </tr>\n",
       "  </thead>\n",
       "  <tbody>\n",
       "    <tr>\n",
       "      <th>0</th>\n",
       "      <td>2023-05-01 09:00:00</td>\n",
       "      <td>1</td>\n",
       "      <td>1</td>\n",
       "      <td>0</td>\n",
       "      <td>0</td>\n",
       "    </tr>\n",
       "    <tr>\n",
       "      <th>1</th>\n",
       "      <td>2023-05-01 09:00:05</td>\n",
       "      <td>1</td>\n",
       "      <td>1</td>\n",
       "      <td>0</td>\n",
       "      <td>0</td>\n",
       "    </tr>\n",
       "    <tr>\n",
       "      <th>2</th>\n",
       "      <td>2023-05-01 09:00:10</td>\n",
       "      <td>1</td>\n",
       "      <td>1</td>\n",
       "      <td>0</td>\n",
       "      <td>0</td>\n",
       "    </tr>\n",
       "    <tr>\n",
       "      <th>3</th>\n",
       "      <td>2023-05-01 09:00:15</td>\n",
       "      <td>1</td>\n",
       "      <td>1</td>\n",
       "      <td>0</td>\n",
       "      <td>0</td>\n",
       "    </tr>\n",
       "    <tr>\n",
       "      <th>4</th>\n",
       "      <td>2023-05-01 09:00:20</td>\n",
       "      <td>1</td>\n",
       "      <td>1</td>\n",
       "      <td>0</td>\n",
       "      <td>0</td>\n",
       "    </tr>\n",
       "    <tr>\n",
       "      <th>...</th>\n",
       "      <td>...</td>\n",
       "      <td>...</td>\n",
       "      <td>...</td>\n",
       "      <td>...</td>\n",
       "      <td>...</td>\n",
       "    </tr>\n",
       "    <tr>\n",
       "      <th>32395</th>\n",
       "      <td>2023-05-01 23:59:35</td>\n",
       "      <td>3</td>\n",
       "      <td>1</td>\n",
       "      <td>1</td>\n",
       "      <td>0</td>\n",
       "    </tr>\n",
       "    <tr>\n",
       "      <th>32396</th>\n",
       "      <td>2023-05-01 23:59:40</td>\n",
       "      <td>3</td>\n",
       "      <td>1</td>\n",
       "      <td>1</td>\n",
       "      <td>0</td>\n",
       "    </tr>\n",
       "    <tr>\n",
       "      <th>32397</th>\n",
       "      <td>2023-05-01 23:59:45</td>\n",
       "      <td>3</td>\n",
       "      <td>1</td>\n",
       "      <td>1</td>\n",
       "      <td>0</td>\n",
       "    </tr>\n",
       "    <tr>\n",
       "      <th>32398</th>\n",
       "      <td>2023-05-01 23:59:50</td>\n",
       "      <td>3</td>\n",
       "      <td>1</td>\n",
       "      <td>1</td>\n",
       "      <td>0</td>\n",
       "    </tr>\n",
       "    <tr>\n",
       "      <th>32399</th>\n",
       "      <td>2023-05-01 23:59:55</td>\n",
       "      <td>3</td>\n",
       "      <td>1</td>\n",
       "      <td>1</td>\n",
       "      <td>0</td>\n",
       "    </tr>\n",
       "  </tbody>\n",
       "</table>\n",
       "<p>32400 rows × 5 columns</p>\n",
       "</div>"
      ],
      "text/plain": [
       "                timestamp  worker_id  ppe  danger  safety_harness\n",
       "0     2023-05-01 09:00:00          1    1       0               0\n",
       "1     2023-05-01 09:00:05          1    1       0               0\n",
       "2     2023-05-01 09:00:10          1    1       0               0\n",
       "3     2023-05-01 09:00:15          1    1       0               0\n",
       "4     2023-05-01 09:00:20          1    1       0               0\n",
       "...                   ...        ...  ...     ...             ...\n",
       "32395 2023-05-01 23:59:35          3    1       1               0\n",
       "32396 2023-05-01 23:59:40          3    1       1               0\n",
       "32397 2023-05-01 23:59:45          3    1       1               0\n",
       "32398 2023-05-01 23:59:50          3    1       1               0\n",
       "32399 2023-05-01 23:59:55          3    1       1               0\n",
       "\n",
       "[32400 rows x 5 columns]"
      ]
     },
     "execution_count": 27,
     "metadata": {},
     "output_type": "execute_result"
    }
   ],
   "source": [
    "# Check df\n",
    "all_df"
   ]
  },
  {
   "cell_type": "code",
   "execution_count": 28,
   "metadata": {},
   "outputs": [],
   "source": [
    "# Save df\n",
    "all_df.to_csv(\"data/file.csv\")"
   ]
  },
  {
   "attachments": {},
   "cell_type": "markdown",
   "metadata": {},
   "source": []
  },
  {
   "cell_type": "code",
   "execution_count": 45,
   "metadata": {},
   "outputs": [
    {
     "data": {
      "text/plain": [
       "<Axes: >"
      ]
     },
     "execution_count": 45,
     "metadata": {},
     "output_type": "execute_result"
    },
    {
     "data": {
      "image/png": "[encoded data removed]",
      "text/plain": [
       "<Figure size 640x480 with 1 Axes>"
      ]
     },
     "metadata": {},
     "output_type": "display_data"
    }
   ],
   "source": [
    "# Visualize\n",
    "all_df[all_df[\"worker_id\"]==3][\"ppe\"].apply(lambda x: int(1 - x)).plot()"
   ]
  },
  {
   "cell_type": "code",
   "execution_count": null,
   "metadata": {},
   "outputs": [],
   "source": []
  }
 ],
 "metadata": {
  "kernelspec": {
   "display_name": ".venv",
   "language": "python",
   "name": "python3"
  },
  "language_info": {
   "codemirror_mode": {
    "name": "ipython",
    "version": 3
   },
   "file_extension": ".py",
   "mimetype": "text/x-python",
   "name": "python",
   "nbconvert_exporter": "python",
   "pygments_lexer": "ipython3",
   "version": "3.11.3"
  },
  "orig_nbformat": 4
 },
 "nbformat": 4,
 "nbformat_minor": 2
}
